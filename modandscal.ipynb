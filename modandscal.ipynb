{
 "cells": [
  {
   "cell_type": "code",
   "execution_count": 1,
   "id": "19576d16-f5a5-4a96-9afc-d767d372d548",
   "metadata": {},
   "outputs": [
    {
     "name": "stdout",
     "output_type": "stream",
     "text": [
      "Model and Scaler trained and saved successfully!\n"
     ]
    }
   ],
   "source": [
    "import pandas as pd\n",
    "from sklearn.model_selection import train_test_split\n",
    "from sklearn.linear_model import LogisticRegression\n",
    "from sklearn.preprocessing import StandardScaler\n",
    "import pickle\n",
    "\n",
    "# Load your dataset\n",
    "df = pd.read_csv(r\"C:\\Users\\13615\\Downloads\\archive\\healthcare-dataset-stroke-data.csv\")\n",
    "\n",
    "# Handle missing values by filling with mean for numerical columns\n",
    "df['bmi'].fillna(df['bmi'].mean(), inplace=True)\n",
    "df['avg_glucose_level'].fillna(df['avg_glucose_level'].mean(), inplace=True)\n",
    "\n",
    "# Optional: Drop rows with missing target values (if any)\n",
    "df = df.dropna(subset=['stroke'])\n",
    "\n",
    "# Feature Engineering\n",
    "df['gender'] = df['gender'].map({'Male': 1, 'Female': 0})\n",
    "df['ever_married'] = df['ever_married'].map({'Yes': 1, 'No': 0})\n",
    "df['Residence_type'] = df['Residence_type'].map({'Urban': 1, 'Rural': 0})\n",
    "\n",
    "# One-hot encoding for smoking status and work type\n",
    "df = pd.get_dummies(df, columns=['smoking_status', 'work_type'], drop_first=True)\n",
    "\n",
    "# Define feature columns\n",
    "feature_columns = [\n",
    "    \"gender\", \"age\", \"hypertension\", \"heart_disease\", \"ever_married\", \"Residence_type\",\n",
    "    \"avg_glucose_level\", \"bmi\",\n",
    "    \"smoking_status_formerly smoked\", \"smoking_status_never smoked\", \"smoking_status_smokes\",\n",
    "    \"work_type_Never_worked\", \"work_type_Private\", \"work_type_Self-employed\", \"work_type_children\"\n",
    "]\n",
    "\n",
    "# Ensure all feature columns are in the DataFrame\n",
    "for col in feature_columns:\n",
    "    if col not in df.columns:\n",
    "        df[col] = 0  # Add missing columns with 0 values\n",
    "\n",
    "# Prepare data\n",
    "X = df[feature_columns]  # Features\n",
    "y = df['stroke']          # Target\n",
    "\n",
    "# Split data\n",
    "X_train, X_test, y_train, y_test = train_test_split(X, y, test_size=0.2, random_state=42)\n",
    "\n",
    "# Train StandardScaler on training data\n",
    "scaler = StandardScaler()\n",
    "X_train = scaler.fit_transform(X_train)\n",
    "X_test = scaler.transform(X_test)\n",
    "\n",
    "# Save the updated scaler\n",
    "with open(\"scaler.pkl\", \"wb\") as file:\n",
    "    pickle.dump(scaler, file)\n",
    "\n",
    "# Train model\n",
    "model = LogisticRegression()\n",
    "model.fit(X_train, y_train)\n",
    "\n",
    "# Save the updated model\n",
    "with open(\"stroke_risk_model.pkl\", \"wb\") as file:\n",
    "    pickle.dump(model, file)\n",
    "\n",
    "print(\"Model and Scaler trained and saved successfully!\")\n",
    "\n",
    "\n",
    "\n"
   ]
  },
  {
   "cell_type": "code",
   "execution_count": 2,
   "id": "4c65c654-5e19-4567-bc27-ce266ac86359",
   "metadata": {},
   "outputs": [
    {
     "name": "stdout",
     "output_type": "stream",
     "text": [
      "Scaler n_features_in_: 15\n",
      "Model n_features_in_: 15\n"
     ]
    }
   ],
   "source": [
    "print(\"Scaler n_features_in_:\", scaler.n_features_in_)\n",
    "print(\"Model n_features_in_:\", model.n_features_in_)\n"
   ]
  },
  {
   "cell_type": "code",
   "execution_count": null,
   "id": "70c64e14-0c6d-4cf3-91cd-f3c7a53d52bb",
   "metadata": {},
   "outputs": [],
   "source": []
  }
 ],
 "metadata": {
  "kernelspec": {
   "display_name": "Python 3 (ipykernel)",
   "language": "python",
   "name": "python3"
  },
  "language_info": {
   "codemirror_mode": {
    "name": "ipython",
    "version": 3
   },
   "file_extension": ".py",
   "mimetype": "text/x-python",
   "name": "python",
   "nbconvert_exporter": "python",
   "pygments_lexer": "ipython3",
   "version": "3.11.4"
  }
 },
 "nbformat": 4,
 "nbformat_minor": 5
}
